{
 "cells": [
  {
   "cell_type": "markdown",
   "id": "5c84ce2e",
   "metadata": {},
   "source": [
    "## Given an array of integers, find two integers whose sum is closest to zero (not necessarily zero).\n"
   ]
  },
  {
   "cell_type": "code",
   "execution_count": 19,
   "id": "0c337336",
   "metadata": {},
   "outputs": [
    {
     "name": "stdout",
     "output_type": "stream",
     "text": [
      "(0, -1, 5)\n",
      "(0, -1, 5)\n"
     ]
    }
   ],
   "source": [
    "import math\n",
    "\n",
    "def two_sum_closest_brute_force(nums:list, target:int):\n",
    "    \n",
    "    len_ = len(nums)\n",
    "    \n",
    "    min_diff = (math.inf, 0 , 0)\n",
    "    \n",
    "    \n",
    "    \n",
    "    for i in range(len_):\n",
    "        \n",
    "        for j in range(i, len_):\n",
    "            \n",
    "            sum_ = nums[i] + nums[j]\n",
    "            \n",
    "            diff = abs(target - sum_)\n",
    "            \n",
    "            if diff < min_diff[0]:\n",
    "                min_diff = (diff, nums[i] , nums[j])\n",
    "            \n",
    "    return min_diff\n",
    "                \n",
    "    \n",
    "\n",
    "\n",
    "\n",
    "def two_sum_closest(nums:list, target:int):\n",
    "            \n",
    "    nums.sort()\n",
    "    \n",
    "    left = 0\n",
    "    right = len(nums) - 1\n",
    "    \n",
    "    #         \n",
    "    diff = (math.inf, left, right)\n",
    "    \n",
    "    while left < right:\n",
    "        sum_ = nums[left] + nums[right]\n",
    "      \n",
    "        curr_diff = abs(target - sum_)\n",
    "        \n",
    "        if curr_diff < diff[0]:\n",
    "            diff = (curr_diff, nums[left], nums[right])\n",
    "        if sum_ < target:\n",
    "            left += 1\n",
    "        elif sum_ > target:\n",
    "            right -= 1\n",
    "        else:\n",
    "            return diff\n",
    "        \n",
    "    return diff\n",
    "        \n",
    "test_nums = [1, -1, 5, -1] \n",
    "target = 4\n",
    "\n",
    "print(two_sum_closest(test_nums, target))\n",
    "print(two_sum_closest_brute_force(test_nums, target))\n"
   ]
  },
  {
   "cell_type": "markdown",
   "id": "2f39eefd",
   "metadata": {},
   "source": [
    "## Given a number ‘n’, write a program to get the sum of all prime numbers from 0 to n.\n",
    "a whole number greater than 1 that cannot be exactly divided by any whole number other than itself and 1 (e.g. 2, 3, 5, 7, 11)."
   ]
  },
  {
   "cell_type": "code",
   "execution_count": 33,
   "id": "c02693e2",
   "metadata": {},
   "outputs": [
    {
     "name": "stdout",
     "output_type": "stream",
     "text": [
      "2\n",
      "3\n",
      "5\n",
      "7\n"
     ]
    },
    {
     "data": {
      "text/plain": [
       "17"
      ]
     },
     "execution_count": 33,
     "metadata": {},
     "output_type": "execute_result"
    }
   ],
   "source": [
    "def sum_prime(n:int):\n",
    "\n",
    "    sum_ = 0\n",
    "    for i in range(2, n):\n",
    "\n",
    "        all_non_divisible = all([ i % divider for divider in range(2, i)])\n",
    "\n",
    "        if all_non_divisible:\n",
    "            print(i)\n",
    "            sum_ += i\n",
    "    return sum_\n",
    "            \n",
    "            \n",
    "sum_prime(10)\n"
   ]
  },
  {
   "cell_type": "markdown",
   "id": "fabed877",
   "metadata": {},
   "source": [
    "## Reverse Vowels of a String"
   ]
  },
  {
   "cell_type": "code",
   "execution_count": 35,
   "id": "0dc25b6b",
   "metadata": {},
   "outputs": [
    {
     "data": {
      "text/plain": [
       "'holle'"
      ]
     },
     "execution_count": 35,
     "metadata": {},
     "output_type": "execute_result"
    }
   ],
   "source": [
    "# two pointer approach\n",
    "# swap when both pointers are at the vowel\n",
    "def reverseVowels(s: str) -> str:\n",
    "    VOWELS: set = { \"a\", \"e\", \"i\", \"o\", \"u\", \"A\", \"E\", \"I\", \"O\", \"U\" }\n",
    "\n",
    "    characters: list[str] = list(s)\n",
    "    left, right = 0, len(characters) - 1\n",
    "    while left < right:\n",
    "        left_value, right_value = characters[left], characters[right]\n",
    "        if left_value in VOWELS and right_value in VOWELS:\n",
    "            characters[left], characters[right] = characters[right], characters[left]\n",
    "            left += 1\n",
    "            right -= 1\n",
    "        elif left_value in VOWELS and right_value not in VOWELS:\n",
    "            right -= 1\n",
    "        elif left_value not in VOWELS and right_value in VOWELS:\n",
    "            left += 1\n",
    "        else:\n",
    "            left += 1\n",
    "            right -= 1\n",
    "\n",
    "    return \"\".join(characters)\n",
    "\n",
    "reverseVowels(\"hello\")"
   ]
  },
  {
   "cell_type": "markdown",
   "id": "0a1c9275",
   "metadata": {},
   "source": [
    "# Vowel Shifting"
   ]
  },
  {
   "cell_type": "code",
   "execution_count": 128,
   "id": "83e442a6",
   "metadata": {},
   "outputs": [
    {
     "name": "stdout",
     "output_type": "stream",
     "text": [
      "['e', 'o']\n",
      "['e', 'o']\n"
     ]
    },
    {
     "data": {
      "text/plain": [
       "'hello'"
      ]
     },
     "execution_count": 128,
     "metadata": {},
     "output_type": "execute_result"
    }
   ],
   "source": [
    "\n",
    "def shiftRightVowel(characters: str, n:int):\n",
    "    vowels = {'a', 'e', 'i', 'o', 'u'}\n",
    "    \n",
    "    vowel_pos = []\n",
    "    \n",
    "    characters_list = list(characters)\n",
    "    \n",
    "    for c in characters_list:\n",
    "        if c in vowels:\n",
    "            vowel_pos.append(c)\n",
    "\n",
    "    length = len(vowel_pos)  \n",
    "    \n",
    "    print(vowel_pos)\n",
    "    \n",
    "    n_negate = -n\n",
    "    #vowel_pos_shifted =   vowel_pos[-n%length:] + vowel_pos[0:length - n%length]\n",
    "    vowel_pos_shifted =   vowel_pos[n_negate%length:] + vowel_pos[0:n_negate%length]\n",
    "    print(vowel_pos_shifted)\n",
    "    \n",
    "    for i, c in enumerate(characters_list):\n",
    "        if c in vowels:\n",
    "            characters_list[i] = vowel_pos_shifted.pop(0)\n",
    "            \n",
    "            \n",
    "    return ''.join(characters_list)\n",
    "    \n",
    "\n",
    "test = 'hello'    \n",
    "shiftRightVowel(test, 2)"
   ]
  },
  {
   "cell_type": "markdown",
   "id": "e3ce7d2d",
   "metadata": {},
   "source": [
    "# Rotate an array"
   ]
  },
  {
   "cell_type": "code",
   "execution_count": 134,
   "id": "f40705f4",
   "metadata": {},
   "outputs": [
    {
     "data": {
      "text/plain": [
       "[4, 1, 3]"
      ]
     },
     "execution_count": 134,
     "metadata": {},
     "output_type": "execute_result"
    }
   ],
   "source": [
    "from typing import List\n",
    "\n",
    "def rotate( nums: List[int], k: int) -> None:\n",
    "    n = len(nums)\n",
    "    a = [0] * n\n",
    "    for i in range(n):\n",
    "        a[(i + k) % n] = nums[i]\n",
    "\n",
    "    nums[:] = a  #==> assignment operator\n",
    "x = [1,3,4]    \n",
    "rotate(x, 1)"
   ]
  },
  {
   "cell_type": "markdown",
   "id": "7506ac91",
   "metadata": {},
   "source": [
    "# Rotate an array 2"
   ]
  },
  {
   "cell_type": "code",
   "execution_count": 60,
   "id": "a12a9d4e",
   "metadata": {},
   "outputs": [
    {
     "name": "stdout",
     "output_type": "stream",
     "text": [
      "[1, 2, 3]\n",
      "Rotated list is\n",
      "[2, 3, 1]\n"
     ]
    }
   ],
   "source": [
    "# Python program using the List\n",
    "# slicing approach to rotate the array\n",
    "def rotateList(arr,d):\n",
    "  n = len(arr)\n",
    "  arr[:]=arr[d%n:n]+arr[0:d%n]\n",
    "  return arr\n",
    "# Driver function to test above function\n",
    "arr = [1, 2, 3]\n",
    "print(arr)\n",
    "print(\"Rotated list is\")\n",
    "print(rotateList(arr,4)) "
   ]
  },
  {
   "cell_type": "markdown",
   "id": "da44f64b",
   "metadata": {},
   "source": [
    "## check if a tree is a BST"
   ]
  },
  {
   "cell_type": "code",
   "execution_count": 114,
   "id": "5eab3b9a",
   "metadata": {},
   "outputs": [
    {
     "data": {
      "text/plain": [
       "'\\n     4\\n  2     5\\n1   6  \\n'"
      ]
     },
     "execution_count": 114,
     "metadata": {},
     "output_type": "execute_result"
    }
   ],
   "source": [
    "class TreeNode:\n",
    "    def __init__(self, val=0, left=None, right=None):\n",
    "        self.val = val\n",
    "        self.left = None\n",
    "        self.right = None\n",
    "        \n",
    "        \n",
    "root = TreeNode(4)\n",
    "l1 =  TreeNode(2)\n",
    "l1l =  TreeNode(1)\n",
    "\n",
    "l1r =  TreeNode(6) #==>\n",
    "\n",
    "r1 = TreeNode(5)\n",
    "root.left = l1\n",
    "root.right = r1\n",
    "\n",
    "l1.left = l1l\n",
    "l1.right = l1r\n",
    "\n",
    "\"\"\"\n",
    "     4\n",
    "  2     5\n",
    "1   6  \n",
    "\"\"\""
   ]
  },
  {
   "cell_type": "code",
   "execution_count": 115,
   "id": "67565ab4",
   "metadata": {},
   "outputs": [
    {
     "name": "stdout",
     "output_type": "stream",
     "text": [
      "[(<__main__.TreeNode object at 0x10cb61bd0>, -inf, 4), (<__main__.TreeNode object at 0x10c8a51d0>, 4, inf)]\n",
      "[(<__main__.TreeNode object at 0x10cb61bd0>, -inf, 4), (None, 4, 5), (None, 5, inf)]\n",
      "[(<__main__.TreeNode object at 0x10ca92c50>, -inf, 2), (<__main__.TreeNode object at 0x10ca81f10>, 2, 4)]\n",
      "[(<__main__.TreeNode object at 0x10ca92c50>, -inf, 2), (None, 2, 3), (None, 3, 4)]\n",
      "[(None, -inf, 1), (None, 1, 2)]\n"
     ]
    },
    {
     "data": {
      "text/plain": [
       "True"
      ]
     },
     "execution_count": 115,
     "metadata": {},
     "output_type": "execute_result"
    }
   ],
   "source": [
    "# breadth first search\n",
    "def isValidBST(root: TreeNode) -> bool:\n",
    "    if not root:\n",
    "        return True\n",
    "\n",
    "    stack = [(root, -math.inf, math.inf)]  # (4, -inf, inf)\n",
    "    \n",
    "    while stack:\n",
    "        \n",
    "        root, lower, upper = stack.pop() # (4, -inf, inf) -> (2, -inf, 4)\n",
    "        \n",
    "        \n",
    "        if not root:\n",
    "            continue\n",
    "        val = root.val\n",
    "        if val <= lower or val >= upper:\n",
    "            return False\n",
    "        \n",
    "        \n",
    "        stack.append((root.left, lower, val))  # (2, -inf, 4),   => (1, -inf, 2), \n",
    "        stack.append((root.right, val, upper)) # (5, 4, inf),  (2, -inf, 4)  =>  (6, 2, 4)\n",
    "     \n",
    "        print(stack) # (2, -inf, 4) , (5, 4, inf) => (2, -inf, 4),\n",
    "        \n",
    "    return True\n",
    "\n",
    "isValidBST(root)"
   ]
  },
  {
   "cell_type": "code",
   "execution_count": 100,
   "id": "5bca9187",
   "metadata": {},
   "outputs": [
    {
     "data": {
      "text/plain": [
       "False"
      ]
     },
     "execution_count": 100,
     "metadata": {},
     "output_type": "execute_result"
    }
   ],
   "source": [
    "# depth first search\n",
    "\n",
    "def isValidBST( root: TreeNode) -> bool:\n",
    "\n",
    "    def validate(node, low=-math.inf, high=math.inf):\n",
    "        # Empty trees are valid BSTs.\n",
    "        if not node:\n",
    "            return True\n",
    "        # The current node's value must be between low and high.\n",
    "        if node.val <= low or node.val >= high:\n",
    "            return False\n",
    "\n",
    "        # The left and right subtree must also be valid.\n",
    "        return validate(node.left, low, node.val)) and\n",
    "               (validate(node.right, node.val, high)\n",
    "\n",
    "    return validate(root)\n",
    "\n",
    "isValidBST(root)"
   ]
  },
  {
   "cell_type": "markdown",
   "id": "440c594a",
   "metadata": {},
   "source": [
    "# fewer number of coin that made up a Sum"
   ]
  },
  {
   "cell_type": "code",
   "execution_count": 6,
   "id": "e4ea5db9",
   "metadata": {},
   "outputs": [
    {
     "name": "stdout",
     "output_type": "stream",
     "text": [
      "0\n",
      "-1\n",
      "1\n",
      "0\n",
      "1\n",
      "1\n"
     ]
    },
    {
     "data": {
      "text/plain": [
       "2"
      ]
     },
     "execution_count": 6,
     "metadata": {},
     "output_type": "execute_result"
    }
   ],
   "source": [
    "#https://leetcode.com/problems/coin-change/description/\n",
    "\n",
    "\n",
    "from functools import lru_cache\n",
    "from typing import List\n",
    "\n",
    "def coinChange(coins: List[int], amount: int) -> int:\n",
    "\n",
    "    @lru_cache(None)\n",
    "    def dfs(rem):\n",
    "        if rem < 0:\n",
    "            return -1\n",
    "        if rem == 0:\n",
    "            return 0\n",
    "        min_cost = float('inf')\n",
    "        for coin in coins:\n",
    "            res = dfs(rem - coin)\n",
    "            print(res)\n",
    "            if res != -1:\n",
    "                min_cost = min(min_cost, res + 1)\n",
    "        return min_cost if min_cost != float('inf') else -1\n",
    "\n",
    "    return dfs(amount)\n",
    "    \n",
    "    \n",
    "coinChange([1,2], 3)"
   ]
  },
  {
   "cell_type": "markdown",
   "id": "a2cfb6cf",
   "metadata": {},
   "source": [
    "## Given a binary array nums, return the maximum length of a contiguous subarray with an equal number of 0 and 1"
   ]
  },
  {
   "cell_type": "code",
   "execution_count": null,
   "id": "83ffe63b",
   "metadata": {},
   "outputs": [],
   "source": [
    "def findMaxLength(self, nums: List[int]) -> int:\n",
    "    max_length =0\n",
    "    hash={}\n",
    "    count=0\n",
    "    for i in range(len(nums)):\n",
    "        current=nums[i]\n",
    "        if current==0:\n",
    "            count-=1 # decrement our count if our current element is 0\n",
    "        else:\n",
    "            # increment our count if current element is 1\n",
    "        count+=1\n",
    "\n",
    "        if count==0:\n",
    "            # if count is 0, we have a new subarray with length+1\n",
    "            max_length=i+1\n",
    "            \n",
    "            \n",
    "        if count in hash:\n",
    "            max_length=max(max_length,i-hash[count])  # \n",
    "        else:\n",
    "            hash[count]=i \n",
    "            # So hash[count]=i means i is the smallest value that nums[0..a] has count more 1s than 0s. \n",
    "            # so that if next time count=hash[count], nums[a..i] will have same amount of 1s and 0s.\n",
    "            # max_length=max(max_length,i-hash[count])\n",
    "    return max_length"
   ]
  },
  {
   "cell_type": "markdown",
   "id": "50bf36f5",
   "metadata": {},
   "source": [
    "# Pascal's Triangle"
   ]
  },
  {
   "cell_type": "code",
   "execution_count": null,
   "id": "8b24952c",
   "metadata": {},
   "outputs": [],
   "source": [
    "def generate(self, num_rows: int) -> List[List[int]]:\n",
    "    triangle = []\n",
    "\n",
    "    for row_num in range(num_rows):\n",
    "        # The first and last row elements are always 1.\n",
    "        row = [None for _ in range(row_num + 1)]\n",
    "        row[0], row[-1] = 1, 1\n",
    "\n",
    "        # Each triangle element is equal to the sum of the elements\n",
    "        # above-and-to-the-left and above-and-to-the-right.\n",
    "        for j in range(1, len(row) - 1):\n",
    "            row[j] = triangle[row_num - 1][j - 1] + triangle[row_num - 1][j]\n",
    "\n",
    "        triangle.append(row)\n",
    "\n",
    "    return triangle"
   ]
  },
  {
   "cell_type": "markdown",
   "id": "366ac2fe",
   "metadata": {},
   "source": [
    "# Subset Sum"
   ]
  },
  {
   "cell_type": "code",
   "execution_count": null,
   "id": "56a812c5",
   "metadata": {},
   "outputs": [],
   "source": [
    "\n",
    "# A recursive solution for subset sum\n",
    "# problem\n",
    "  \n",
    "# Returns true if there is a subset\n",
    "# of set[] with sun equal to given sum\n",
    "  \n",
    "  \n",
    "def isSubsetSum(set, n, sum):\n",
    "  \n",
    "    # Base Cases\n",
    "    if (sum == 0):\n",
    "        return True\n",
    "    if (n == 0):\n",
    "        return False\n",
    "  \n",
    "    # If last element is greater than\n",
    "    # sum, then ignore it\n",
    "    if (set[n - 1] > sum):\n",
    "        return isSubsetSum(set, n - 1, sum)\n",
    "  \n",
    "    # else, check if sum can be obtained\n",
    "    # by any of the following\n",
    "    # (a) including the last element\n",
    "    # (b) excluding the last element\n",
    "    return isSubsetSum(\n",
    "        set, n-1, sum) or isSubsetSum(\n",
    "        set, n-1, sum-set[n-1])\n",
    "  \n",
    "  \n",
    "# Driver code\n",
    "set = [3, 34, 4, 12, 5, 2]\n",
    "sum = 9\n",
    "n = len(set)\n",
    "if (isSubsetSum(set, n, sum) == True):\n",
    "    print(\"Found a subset with given sum\")\n",
    "else:\n",
    "    print(\"No subset with given sum\")"
   ]
  },
  {
   "cell_type": "markdown",
   "id": "43abf201",
   "metadata": {},
   "source": [
    "## System design of a smart meter in an apartment."
   ]
  },
  {
   "cell_type": "code",
   "execution_count": null,
   "id": "51e727f3",
   "metadata": {},
   "outputs": [],
   "source": [
    "I’d ask questions like:\n",
    "1. How many apartments are we talking about?\n",
    "2. How long back in history does the data have to be stored?\n",
    "3. Is this for just one apartment complex or are we building a platform that can be used anywhere?\n",
    "4. How frequently is the usage data updated for every unit? E.g. is it every minute that we get new usage info or every hour?\n",
    "5. I assume the usage information is stored on our end otherwise the problem would become too easy as you can just ask the utilities company for the data.\n",
    "\n",
    "This seems more heavy on the database design. I’d say using a time series DB. Or if you just used a relational DB, as there is relationships here in terms of units, floor, building etc. you would have to pick a sharding key.\n",
    "Querying for the data is then easy. You just have to talk about some API endpoints that would query the required data.\n",
    "\n",
    "https://medium.com/@passionfortech/design-smart-meter-d0c358b8420b"
   ]
  },
  {
   "cell_type": "markdown",
   "id": "707613d2",
   "metadata": {},
   "source": [
    "## List the advantages and disadvantages of moving to the Cloud."
   ]
  },
  {
   "cell_type": "markdown",
   "id": "0446a297",
   "metadata": {},
   "source": [
    "## Design a banking system."
   ]
  },
  {
   "cell_type": "code",
   "execution_count": null,
   "id": "c8b3b928",
   "metadata": {},
   "outputs": [],
   "source": [
    "https://iq.opengenus.org/system-design-of-bank-management-system/"
   ]
  },
  {
   "cell_type": "code",
   "execution_count": 3,
   "id": "ce264d0b",
   "metadata": {},
   "outputs": [
    {
     "ename": "ValueError",
     "evalue": "4 is not in list",
     "output_type": "error",
     "traceback": [
      "\u001b[0;31m---------------------------------------------------------------------------\u001b[0m",
      "\u001b[0;31mValueError\u001b[0m                                Traceback (most recent call last)",
      "Cell \u001b[0;32mIn[3], line 1\u001b[0m\n\u001b[0;32m----> 1\u001b[0m \u001b[43m[\u001b[49m\u001b[38;5;241;43m1\u001b[39;49m\u001b[43m,\u001b[49m\u001b[38;5;241;43m1\u001b[39;49m\u001b[43m,\u001b[49m\u001b[38;5;241;43m3\u001b[39;49m\u001b[43m]\u001b[49m\u001b[38;5;241;43m.\u001b[39;49m\u001b[43mindex\u001b[49m\u001b[43m(\u001b[49m\u001b[38;5;241;43m4\u001b[39;49m\u001b[43m)\u001b[49m\n",
      "\u001b[0;31mValueError\u001b[0m: 4 is not in list"
     ]
    }
   ],
   "source": [
    "\n",
    "\n",
    "[1,1,3].index(4)"
   ]
  },
  {
   "cell_type": "code",
   "execution_count": 8,
   "id": "ff7cb7de",
   "metadata": {},
   "outputs": [
    {
     "name": "stdout",
     "output_type": "stream",
     "text": [
      "1\n",
      "1\n",
      "2\n",
      "3\n",
      "5\n",
      "8\n",
      "13\n",
      "21\n",
      "34\n",
      "55\n"
     ]
    }
   ],
   "source": [
    "\n",
    "\n",
    "def fib(n):\n",
    "    if n < 2:\n",
    "        return 1\n",
    "    \n",
    "    return fib(n-1) + fib(n-2)\n",
    "\n",
    "for i in range(10):\n",
    "    print(fib(i))"
   ]
  },
  {
   "cell_type": "code",
   "execution_count": null,
   "id": "cd8408d6",
   "metadata": {},
   "outputs": [],
   "source": []
  }
 ],
 "metadata": {
  "kernelspec": {
   "display_name": "Python 3 (ipykernel)",
   "language": "python",
   "name": "python3"
  },
  "language_info": {
   "codemirror_mode": {
    "name": "ipython",
    "version": 3
   },
   "file_extension": ".py",
   "mimetype": "text/x-python",
   "name": "python",
   "nbconvert_exporter": "python",
   "pygments_lexer": "ipython3",
   "version": "3.11.1"
  }
 },
 "nbformat": 4,
 "nbformat_minor": 5
}
