{
 "cells": [
  {
   "cell_type": "code",
   "execution_count": 1,
   "id": "b8c76550",
   "metadata": {},
   "outputs": [
    {
     "name": "stdout",
     "output_type": "stream",
     "text": [
      "Hash code: 7f83b1657ff1fc53b92dc18148a1d65dfc2d4b1fa3d677284addd200126d9069\n"
     ]
    }
   ],
   "source": [
    "import hashlib\n",
    "\n",
    "# Define the message to be hashed\n",
    "message = \"Hello World!\"\n",
    "\n",
    "# Encode the message as bytes using UTF-8 encoding\n",
    "message_bytes = message.encode('utf-8')\n",
    "\n",
    "# Hash the message using the SHA-256 algorithm\n",
    "hash_object = hashlib.sha256(message_bytes)\n",
    "\n",
    "# Get the hash code as a string of hexadecimal characters\n",
    "hash_code = hash_object.hexdigest()\n",
    "\n",
    "# Print the hash code\n",
    "print(\"Hash code:\", hash_code)\n"
   ]
  },
  {
   "cell_type": "code",
   "execution_count": 2,
   "id": "d6630e96",
   "metadata": {},
   "outputs": [
    {
     "data": {
      "text/plain": [
       "64"
      ]
     },
     "execution_count": 2,
     "metadata": {},
     "output_type": "execute_result"
    }
   ],
   "source": [
    "len('7f83b1657ff1fc53b92dc18148a1d65dfc2d4b1fa3d677284addd200126d9069')"
   ]
  },
  {
   "cell_type": "code",
   "execution_count": 5,
   "id": "d1d36b2b",
   "metadata": {},
   "outputs": [
    {
     "data": {
      "text/plain": [
       "'sha256'"
      ]
     },
     "execution_count": 5,
     "metadata": {},
     "output_type": "execute_result"
    }
   ],
   "source": [
    "hash_object.name"
   ]
  },
  {
   "cell_type": "code",
   "execution_count": 8,
   "id": "7b775c16",
   "metadata": {},
   "outputs": [
    {
     "data": {
      "text/plain": [
       "b'1000'"
      ]
     },
     "execution_count": 8,
     "metadata": {},
     "output_type": "execute_result"
    }
   ],
   "source": [
    "b'1000'"
   ]
  },
  {
   "cell_type": "code",
   "execution_count": null,
   "id": "b213a052",
   "metadata": {},
   "outputs": [],
   "source": []
  }
 ],
 "metadata": {
  "kernelspec": {
   "display_name": "Python 3 (ipykernel)",
   "language": "python",
   "name": "python3"
  },
  "language_info": {
   "codemirror_mode": {
    "name": "ipython",
    "version": 3
   },
   "file_extension": ".py",
   "mimetype": "text/x-python",
   "name": "python",
   "nbconvert_exporter": "python",
   "pygments_lexer": "ipython3",
   "version": "3.11.1"
  }
 },
 "nbformat": 4,
 "nbformat_minor": 5
}
