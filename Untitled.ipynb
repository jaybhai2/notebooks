{
 "cells": [
  {
   "cell_type": "code",
   "execution_count": 3,
   "id": "7894b807",
   "metadata": {},
   "outputs": [
    {
     "name": "stderr",
     "output_type": "stream",
     "text": [
      "UsageError: Line magic function `%sh` not found (But cell magic `%%sh` exists, did you mean that instead?).\n"
     ]
    }
   ],
   "source": [
    "%sh aws"
   ]
  },
  {
   "cell_type": "code",
   "execution_count": 4,
   "id": "bb8cb4c0",
   "metadata": {},
   "outputs": [
    {
     "name": "stdout",
     "output_type": "stream",
     "text": [
      "\r\n",
      "usage: aws [options] <command> <subcommand> [<subcommand> ...] [parameters]\r\n",
      "To see help text, you can run:\r\n",
      "\r\n",
      "  aws help\r\n",
      "  aws <command> help\r\n",
      "  aws <command> <subcommand> help\r\n",
      "\r\n",
      "aws: error: the following arguments are required: command\r\n",
      "\r\n"
     ]
    }
   ],
   "source": [
    "!aws"
   ]
  },
  {
   "cell_type": "code",
   "execution_count": 13,
   "id": "412fcd53",
   "metadata": {},
   "outputs": [
    {
     "name": "stdout",
     "output_type": "stream",
     "text": [
      "upload: data/sample/_delta_log/.00000000000000000003.json.crc to s3://jay-buckets/my_delta_table/_delta_log/.00000000000000000003.json.crc\n",
      "upload: data/sample/_delta_log/.00000000000000000000.json.crc to s3://jay-buckets/my_delta_table/_delta_log/.00000000000000000000.json.crc\n",
      "upload: data/sample/_delta_log/.00000000000000000001.json.crc to s3://jay-buckets/my_delta_table/_delta_log/.00000000000000000001.json.crc\n",
      "upload: data/sample/_delta_log/00000000000000000000.json to s3://jay-buckets/my_delta_table/_delta_log/00000000000000000000.json\n",
      "upload: data/sample/_delta_log/00000000000000000003.json to s3://jay-buckets/my_delta_table/_delta_log/00000000000000000003.json\n",
      "upload: data/sample/_delta_log/00000000000000000001.json to s3://jay-buckets/my_delta_table/_delta_log/00000000000000000001.json\n",
      "upload: data/sample/_delta_log/.00000000000000000004.json.crc to s3://jay-buckets/my_delta_table/_delta_log/.00000000000000000004.json.crc\n",
      "upload: data/sample/_delta_log/00000000000000000002.json to s3://jay-buckets/my_delta_table/_delta_log/00000000000000000002.json\n",
      "upload: data/sample/_delta_log/00000000000000000004.json to s3://jay-buckets/my_delta_table/_delta_log/00000000000000000004.json\n",
      "upload: data/sample/_delta_log/.00000000000000000002.json.crc to s3://jay-buckets/my_delta_table/_delta_log/.00000000000000000002.json.crc\n",
      "upload: data/sample/id=0/.part-00000-8ac7e4cb-04c7-45e4-b370-02d1dd8e06ee.c000.snappy.parquet.crc to s3://jay-buckets/my_delta_table/id=0/.part-00000-8ac7e4cb-04c7-45e4-b370-02d1dd8e06ee.c000.snappy.parquet.crc\n",
      "upload: data/sample/id=0/.part-00000-9025943f-96da-45a3-914e-b315c3c3e3cf.c000.snappy.parquet.crc to s3://jay-buckets/my_delta_table/id=0/.part-00000-9025943f-96da-45a3-914e-b315c3c3e3cf.c000.snappy.parquet.crc\n",
      "upload: data/sample/id=0/part-00000-9025943f-96da-45a3-914e-b315c3c3e3cf.c000.snappy.parquet to s3://jay-buckets/my_delta_table/id=0/part-00000-9025943f-96da-45a3-914e-b315c3c3e3cf.c000.snappy.parquet\n",
      "upload: data/sample/id=0/part-00000-8ac7e4cb-04c7-45e4-b370-02d1dd8e06ee.c000.snappy.parquet to s3://jay-buckets/my_delta_table/id=0/part-00000-8ac7e4cb-04c7-45e4-b370-02d1dd8e06ee.c000.snappy.parquet\n",
      "upload: data/sample/id=1/.part-00000-3a195b9b-2fdc-4434-a82b-c30397b33cc6.c000.snappy.parquet.crc to s3://jay-buckets/my_delta_table/id=1/.part-00000-3a195b9b-2fdc-4434-a82b-c30397b33cc6.c000.snappy.parquet.crc\n",
      "upload: data/sample/id=1/.part-00000-dc4bcecf-4a7c-42c4-b17e-64c1182cbc5a.c000.snappy.parquet.crc to s3://jay-buckets/my_delta_table/id=1/.part-00000-dc4bcecf-4a7c-42c4-b17e-64c1182cbc5a.c000.snappy.parquet.crc\n",
      "upload: data/sample/id=1/part-00000-3a195b9b-2fdc-4434-a82b-c30397b33cc6.c000.snappy.parquet to s3://jay-buckets/my_delta_table/id=1/part-00000-3a195b9b-2fdc-4434-a82b-c30397b33cc6.c000.snappy.parquet\n",
      "upload: data/sample/id=2/.part-00000-534dd17d-b431-4125-8b5f-31e2a71514cd.c000.snappy.parquet.crc to s3://jay-buckets/my_delta_table/id=2/.part-00000-534dd17d-b431-4125-8b5f-31e2a71514cd.c000.snappy.parquet.crc\n",
      "upload: data/sample/id=1/part-00000-dc4bcecf-4a7c-42c4-b17e-64c1182cbc5a.c000.snappy.parquet to s3://jay-buckets/my_delta_table/id=1/part-00000-dc4bcecf-4a7c-42c4-b17e-64c1182cbc5a.c000.snappy.parquet\n",
      "upload: data/sample/id=3/.part-00000-6f27c3a8-107a-4d30-a1e5-4f9ec0f1bf7c.c000.snappy.parquet.crc to s3://jay-buckets/my_delta_table/id=3/.part-00000-6f27c3a8-107a-4d30-a1e5-4f9ec0f1bf7c.c000.snappy.parquet.crc\n",
      "upload: data/sample/id=2/part-00000-534dd17d-b431-4125-8b5f-31e2a71514cd.c000.snappy.parquet to s3://jay-buckets/my_delta_table/id=2/part-00000-534dd17d-b431-4125-8b5f-31e2a71514cd.c000.snappy.parquet\n",
      "upload: data/sample/id=4/.part-00000-a50f3180-be2e-4255-bb58-90adb7ebddef.c000.snappy.parquet.crc to s3://jay-buckets/my_delta_table/id=4/.part-00000-a50f3180-be2e-4255-bb58-90adb7ebddef.c000.snappy.parquet.crc\n",
      "upload: data/sample/id=3/part-00000-6f27c3a8-107a-4d30-a1e5-4f9ec0f1bf7c.c000.snappy.parquet to s3://jay-buckets/my_delta_table/id=3/part-00000-6f27c3a8-107a-4d30-a1e5-4f9ec0f1bf7c.c000.snappy.parquet\n",
      "upload: data/sample/id=6/.part-00000-f25ec979-74f5-4658-b626-f718e95c152a.c000.snappy.parquet.crc to s3://jay-buckets/my_delta_table/id=6/.part-00000-f25ec979-74f5-4658-b626-f718e95c152a.c000.snappy.parquet.crc\n",
      "upload: data/sample/id=4/part-00000-a50f3180-be2e-4255-bb58-90adb7ebddef.c000.snappy.parquet to s3://jay-buckets/my_delta_table/id=4/part-00000-a50f3180-be2e-4255-bb58-90adb7ebddef.c000.snappy.parquet\n",
      "upload: data/sample/id=5/part-00000-16d03358-0b19-4547-98e7-ba44f800d6aa.c000.snappy.parquet to s3://jay-buckets/my_delta_table/id=5/part-00000-16d03358-0b19-4547-98e7-ba44f800d6aa.c000.snappy.parquet\n",
      "upload: data/sample/id=5/.part-00000-16d03358-0b19-4547-98e7-ba44f800d6aa.c000.snappy.parquet.crc to s3://jay-buckets/my_delta_table/id=5/.part-00000-16d03358-0b19-4547-98e7-ba44f800d6aa.c000.snappy.parquet.crc\n",
      "upload: data/sample/id=6/part-00000-f25ec979-74f5-4658-b626-f718e95c152a.c000.snappy.parquet to s3://jay-buckets/my_delta_table/id=6/part-00000-f25ec979-74f5-4658-b626-f718e95c152a.c000.snappy.parquet\n",
      "upload: data/sample/id=7/.part-00000-cc50fa0d-2171-41d2-aa1d-dee74a2ddb4e.c000.snappy.parquet.crc to s3://jay-buckets/my_delta_table/id=7/.part-00000-cc50fa0d-2171-41d2-aa1d-dee74a2ddb4e.c000.snappy.parquet.crc\n",
      "upload: data/sample/id=8/.part-00000-ecfe6cc0-0827-48f1-8037-2aa320ce7901.c000.snappy.parquet.crc to s3://jay-buckets/my_delta_table/id=8/.part-00000-ecfe6cc0-0827-48f1-8037-2aa320ce7901.c000.snappy.parquet.crc\n",
      "upload: data/sample/id=7/part-00000-cc50fa0d-2171-41d2-aa1d-dee74a2ddb4e.c000.snappy.parquet to s3://jay-buckets/my_delta_table/id=7/part-00000-cc50fa0d-2171-41d2-aa1d-dee74a2ddb4e.c000.snappy.parquet\n",
      "upload: data/sample/id=9/.part-00000-d222fa31-baf6-44de-8548-b73bf3ad2db9.c000.snappy.parquet.crc to s3://jay-buckets/my_delta_table/id=9/.part-00000-d222fa31-baf6-44de-8548-b73bf3ad2db9.c000.snappy.parquet.crc\n",
      "upload: data/sample/id=8/part-00000-ecfe6cc0-0827-48f1-8037-2aa320ce7901.c000.snappy.parquet to s3://jay-buckets/my_delta_table/id=8/part-00000-ecfe6cc0-0827-48f1-8037-2aa320ce7901.c000.snappy.parquet\n",
      "upload: data/sample/id=9/part-00000-d222fa31-baf6-44de-8548-b73bf3ad2db9.c000.snappy.parquet to s3://jay-buckets/my_delta_table/id=9/part-00000-d222fa31-baf6-44de-8548-b73bf3ad2db9.c000.snappy.parquet\n"
     ]
    }
   ],
   "source": [
    "!aws s3 cp data/sample s3://jay-buckets/my_delta_table/ --recursive"
   ]
  },
  {
   "cell_type": "code",
   "execution_count": 14,
   "id": "e859d063",
   "metadata": {},
   "outputs": [
    {
     "name": "stdout",
     "output_type": "stream",
     "text": [
      "upload: data/sample/_delta_log/.00000000000000000003.json.crc to s3://finviz-ingest/my_delta_table/_delta_log/.00000000000000000003.json.crc\n",
      "upload: data/sample/_delta_log/00000000000000000003.json to s3://finviz-ingest/my_delta_table/_delta_log/00000000000000000003.json\n",
      "upload: data/sample/_delta_log/.00000000000000000002.json.crc to s3://finviz-ingest/my_delta_table/_delta_log/.00000000000000000002.json.crc\n",
      "upload: data/sample/_delta_log/00000000000000000001.json to s3://finviz-ingest/my_delta_table/_delta_log/00000000000000000001.json\n",
      "upload: data/sample/_delta_log/.00000000000000000004.json.crc to s3://finviz-ingest/my_delta_table/_delta_log/.00000000000000000004.json.crc\n",
      "upload: data/sample/_delta_log/.00000000000000000000.json.crc to s3://finviz-ingest/my_delta_table/_delta_log/.00000000000000000000.json.crc\n",
      "upload: data/sample/_delta_log/00000000000000000000.json to s3://finviz-ingest/my_delta_table/_delta_log/00000000000000000000.json\n",
      "upload: data/sample/_delta_log/.00000000000000000001.json.crc to s3://finviz-ingest/my_delta_table/_delta_log/.00000000000000000001.json.crc\n",
      "upload: data/sample/_delta_log/00000000000000000002.json to s3://finviz-ingest/my_delta_table/_delta_log/00000000000000000002.json\n",
      "upload: data/sample/_delta_log/00000000000000000004.json to s3://finviz-ingest/my_delta_table/_delta_log/00000000000000000004.json\n",
      "upload: data/sample/id=0/.part-00000-8ac7e4cb-04c7-45e4-b370-02d1dd8e06ee.c000.snappy.parquet.crc to s3://finviz-ingest/my_delta_table/id=0/.part-00000-8ac7e4cb-04c7-45e4-b370-02d1dd8e06ee.c000.snappy.parquet.crc\n",
      "upload: data/sample/id=1/.part-00000-3a195b9b-2fdc-4434-a82b-c30397b33cc6.c000.snappy.parquet.crc to s3://finviz-ingest/my_delta_table/id=1/.part-00000-3a195b9b-2fdc-4434-a82b-c30397b33cc6.c000.snappy.parquet.crc\n",
      "upload: data/sample/id=1/.part-00000-dc4bcecf-4a7c-42c4-b17e-64c1182cbc5a.c000.snappy.parquet.crc to s3://finviz-ingest/my_delta_table/id=1/.part-00000-dc4bcecf-4a7c-42c4-b17e-64c1182cbc5a.c000.snappy.parquet.crc\n",
      "upload: data/sample/id=0/part-00000-8ac7e4cb-04c7-45e4-b370-02d1dd8e06ee.c000.snappy.parquet to s3://finviz-ingest/my_delta_table/id=0/part-00000-8ac7e4cb-04c7-45e4-b370-02d1dd8e06ee.c000.snappy.parquet\n",
      "upload: data/sample/id=0/.part-00000-9025943f-96da-45a3-914e-b315c3c3e3cf.c000.snappy.parquet.crc to s3://finviz-ingest/my_delta_table/id=0/.part-00000-9025943f-96da-45a3-914e-b315c3c3e3cf.c000.snappy.parquet.crc\n",
      "upload: data/sample/id=0/part-00000-9025943f-96da-45a3-914e-b315c3c3e3cf.c000.snappy.parquet to s3://finviz-ingest/my_delta_table/id=0/part-00000-9025943f-96da-45a3-914e-b315c3c3e3cf.c000.snappy.parquet\n",
      "upload: data/sample/id=1/part-00000-3a195b9b-2fdc-4434-a82b-c30397b33cc6.c000.snappy.parquet to s3://finviz-ingest/my_delta_table/id=1/part-00000-3a195b9b-2fdc-4434-a82b-c30397b33cc6.c000.snappy.parquet\n",
      "upload: data/sample/id=2/.part-00000-534dd17d-b431-4125-8b5f-31e2a71514cd.c000.snappy.parquet.crc to s3://finviz-ingest/my_delta_table/id=2/.part-00000-534dd17d-b431-4125-8b5f-31e2a71514cd.c000.snappy.parquet.crc\n",
      "upload: data/sample/id=2/part-00000-534dd17d-b431-4125-8b5f-31e2a71514cd.c000.snappy.parquet to s3://finviz-ingest/my_delta_table/id=2/part-00000-534dd17d-b431-4125-8b5f-31e2a71514cd.c000.snappy.parquet\n",
      "upload: data/sample/id=1/part-00000-dc4bcecf-4a7c-42c4-b17e-64c1182cbc5a.c000.snappy.parquet to s3://finviz-ingest/my_delta_table/id=1/part-00000-dc4bcecf-4a7c-42c4-b17e-64c1182cbc5a.c000.snappy.parquet\n",
      "upload: data/sample/id=3/part-00000-6f27c3a8-107a-4d30-a1e5-4f9ec0f1bf7c.c000.snappy.parquet to s3://finviz-ingest/my_delta_table/id=3/part-00000-6f27c3a8-107a-4d30-a1e5-4f9ec0f1bf7c.c000.snappy.parquet\n",
      "upload: data/sample/id=5/.part-00000-16d03358-0b19-4547-98e7-ba44f800d6aa.c000.snappy.parquet.crc to s3://finviz-ingest/my_delta_table/id=5/.part-00000-16d03358-0b19-4547-98e7-ba44f800d6aa.c000.snappy.parquet.crc\n",
      "upload: data/sample/id=4/part-00000-a50f3180-be2e-4255-bb58-90adb7ebddef.c000.snappy.parquet to s3://finviz-ingest/my_delta_table/id=4/part-00000-a50f3180-be2e-4255-bb58-90adb7ebddef.c000.snappy.parquet\n",
      "upload: data/sample/id=3/.part-00000-6f27c3a8-107a-4d30-a1e5-4f9ec0f1bf7c.c000.snappy.parquet.crc to s3://finviz-ingest/my_delta_table/id=3/.part-00000-6f27c3a8-107a-4d30-a1e5-4f9ec0f1bf7c.c000.snappy.parquet.crc\n",
      "upload: data/sample/id=6/.part-00000-f25ec979-74f5-4658-b626-f718e95c152a.c000.snappy.parquet.crc to s3://finviz-ingest/my_delta_table/id=6/.part-00000-f25ec979-74f5-4658-b626-f718e95c152a.c000.snappy.parquet.crc\n",
      "upload: data/sample/id=6/part-00000-f25ec979-74f5-4658-b626-f718e95c152a.c000.snappy.parquet to s3://finviz-ingest/my_delta_table/id=6/part-00000-f25ec979-74f5-4658-b626-f718e95c152a.c000.snappy.parquet\n",
      "upload: data/sample/id=4/.part-00000-a50f3180-be2e-4255-bb58-90adb7ebddef.c000.snappy.parquet.crc to s3://finviz-ingest/my_delta_table/id=4/.part-00000-a50f3180-be2e-4255-bb58-90adb7ebddef.c000.snappy.parquet.crc\n",
      "upload: data/sample/id=5/part-00000-16d03358-0b19-4547-98e7-ba44f800d6aa.c000.snappy.parquet to s3://finviz-ingest/my_delta_table/id=5/part-00000-16d03358-0b19-4547-98e7-ba44f800d6aa.c000.snappy.parquet\n",
      "upload: data/sample/id=7/.part-00000-cc50fa0d-2171-41d2-aa1d-dee74a2ddb4e.c000.snappy.parquet.crc to s3://finviz-ingest/my_delta_table/id=7/.part-00000-cc50fa0d-2171-41d2-aa1d-dee74a2ddb4e.c000.snappy.parquet.crc\n",
      "upload: data/sample/id=7/part-00000-cc50fa0d-2171-41d2-aa1d-dee74a2ddb4e.c000.snappy.parquet to s3://finviz-ingest/my_delta_table/id=7/part-00000-cc50fa0d-2171-41d2-aa1d-dee74a2ddb4e.c000.snappy.parquet\n",
      "upload: data/sample/id=8/.part-00000-ecfe6cc0-0827-48f1-8037-2aa320ce7901.c000.snappy.parquet.crc to s3://finviz-ingest/my_delta_table/id=8/.part-00000-ecfe6cc0-0827-48f1-8037-2aa320ce7901.c000.snappy.parquet.crc\n",
      "upload: data/sample/id=9/.part-00000-d222fa31-baf6-44de-8548-b73bf3ad2db9.c000.snappy.parquet.crc to s3://finviz-ingest/my_delta_table/id=9/.part-00000-d222fa31-baf6-44de-8548-b73bf3ad2db9.c000.snappy.parquet.crc\n",
      "upload: data/sample/id=9/part-00000-d222fa31-baf6-44de-8548-b73bf3ad2db9.c000.snappy.parquet to s3://finviz-ingest/my_delta_table/id=9/part-00000-d222fa31-baf6-44de-8548-b73bf3ad2db9.c000.snappy.parquet\n",
      "upload: data/sample/id=8/part-00000-ecfe6cc0-0827-48f1-8037-2aa320ce7901.c000.snappy.parquet to s3://finviz-ingest/my_delta_table/id=8/part-00000-ecfe6cc0-0827-48f1-8037-2aa320ce7901.c000.snappy.parquet\n"
     ]
    }
   ],
   "source": [
    "!aws s3 cp data/sample s3://finviz-ingest/my_delta_table/ --recursive"
   ]
  },
  {
   "cell_type": "code",
   "execution_count": null,
   "id": "c6431e45",
   "metadata": {},
   "outputs": [],
   "source": []
  }
 ],
 "metadata": {
  "kernelspec": {
   "display_name": "Python 3 (ipykernel)",
   "language": "python",
   "name": "python3"
  },
  "language_info": {
   "codemirror_mode": {
    "name": "ipython",
    "version": 3
   },
   "file_extension": ".py",
   "mimetype": "text/x-python",
   "name": "python",
   "nbconvert_exporter": "python",
   "pygments_lexer": "ipython3",
   "version": "3.11.1"
  }
 },
 "nbformat": 4,
 "nbformat_minor": 5
}
