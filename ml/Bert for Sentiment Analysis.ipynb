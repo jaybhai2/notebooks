{
 "cells": [
  {
   "cell_type": "code",
   "execution_count": null,
   "id": "1fc3221b",
   "metadata": {},
   "outputs": [],
   "source": [
    "!pip3 install torch torchvision\n",
    "!pip3 install transformers\n",
    "!pip3 install datasets\n",
    "!pip3 install ipywidgets"
   ]
  },
  {
   "cell_type": "code",
   "execution_count": 1,
   "id": "84afff7a",
   "metadata": {
    "scrolled": true
   },
   "outputs": [
    {
     "name": "stderr",
     "output_type": "stream",
     "text": [
      "Found cached dataset imdb (/Users/jweix/.cache/huggingface/datasets/imdb/plain_text/1.0.0/d613c88cf8fa3bab83b4ded3713f1f74830d1100e171db75bbddb80b3345c9c0)\n"
     ]
    },
    {
     "data": {
      "application/vnd.jupyter.widget-view+json": {
       "model_id": "3fd1bbb8e4e64a6dbed9c9310a25c98a",
       "version_major": 2,
       "version_minor": 0
      },
      "text/plain": [
       "  0%|          | 0/3 [00:00<?, ?it/s]"
      ]
     },
     "metadata": {},
     "output_type": "display_data"
    },
    {
     "name": "stderr",
     "output_type": "stream",
     "text": [
      "Loading cached shuffled indices for dataset at /Users/jweix/.cache/huggingface/datasets/imdb/plain_text/1.0.0/d613c88cf8fa3bab83b4ded3713f1f74830d1100e171db75bbddb80b3345c9c0/cache-b30490d9bb1910a8.arrow\n",
      "Loading cached shuffled indices for dataset at /Users/jweix/.cache/huggingface/datasets/imdb/plain_text/1.0.0/d613c88cf8fa3bab83b4ded3713f1f74830d1100e171db75bbddb80b3345c9c0/cache-25a13d1ede6e3cb3.arrow\n"
     ]
    }
   ],
   "source": [
    "from tqdm.notebook import tqdm\n",
    "from datasets import load_dataset\n",
    "\n",
    "dataset = load_dataset('imdb')\n",
    "\n",
    "train_dataset = dataset['train'].shuffle(seed=1).select(range(100))\n",
    "test_dataset = dataset['test'].shuffle(seed=1).select(range(100))"
   ]
  },
  {
   "cell_type": "code",
   "execution_count": null,
   "id": "81b6234c",
   "metadata": {},
   "outputs": [],
   "source": [
    "from collections import Counter\n",
    "\n",
    "Counter(train_dataset['label'])"
   ]
  },
  {
   "cell_type": "code",
   "execution_count": 4,
   "id": "f827c3c1",
   "metadata": {
    "scrolled": true
   },
   "outputs": [
    {
     "name": "stderr",
     "output_type": "stream",
     "text": [
      "Some weights of the model checkpoint at bert-base-uncased were not used when initializing BertForSequenceClassification: ['cls.predictions.bias', 'cls.predictions.transform.dense.weight', 'cls.predictions.transform.dense.bias', 'cls.predictions.transform.LayerNorm.weight', 'cls.predictions.decoder.weight', 'cls.seq_relationship.weight', 'cls.seq_relationship.bias', 'cls.predictions.transform.LayerNorm.bias']\n",
      "- This IS expected if you are initializing BertForSequenceClassification from the checkpoint of a model trained on another task or with another architecture (e.g. initializing a BertForSequenceClassification model from a BertForPreTraining model).\n",
      "- This IS NOT expected if you are initializing BertForSequenceClassification from the checkpoint of a model that you expect to be exactly identical (initializing a BertForSequenceClassification model from a BertForSequenceClassification model).\n",
      "Some weights of BertForSequenceClassification were not initialized from the model checkpoint at bert-base-uncased and are newly initialized: ['classifier.bias', 'classifier.weight']\n",
      "You should probably TRAIN this model on a down-stream task to be able to use it for predictions and inference.\n"
     ]
    }
   ],
   "source": [
    "import numpy as np\n",
    "import torch\n",
    "from torch.utils.data import DataLoader, TensorDataset\n",
    "from transformers import BertTokenizer, BertForSequenceClassification\n",
    "\n",
    "\n",
    "tokenizer = BertTokenizer.from_pretrained('bert-base-uncased')\n",
    "model = BertForSequenceClassification.from_pretrained('bert-base-uncased')\n",
    "\n",
    "# tokenize text input, \n",
    "encoded_input = tokenizer(train_dataset['text'], \n",
    "                          return_tensors='pt', \n",
    "                          padding='max_length', \n",
    "                          max_length=512, # pretrained berth expect max of 512 tokens\n",
    "                          truncation=True)\n",
    "\n",
    "# label does not need to be tokenized\n",
    "# just covert it to tensor object\n",
    "encoded_labels = torch.tensor(train_dataset['label'])\n",
    "\n",
    "\n",
    "# import torch.nn.functional as F\n",
    "\n",
    "# # Convert target tensor to one-hot encoded format\n",
    "# target_one_hot = F.one_hot(encoded_labels, num_classes=2)\n",
    "# target_one_hot\n",
    "\n",
    "# wrap the train data and label into TensorDatasets\n",
    "tensor_dataset = TensorDataset(encoded_input['input_ids'], \n",
    "                               encoded_input['attention_mask'], \n",
    "                               encoded_labels)\n",
    "\n",
    "# split train dataset into multiple batch\n",
    "train_loader = DataLoader(tensor_dataset, batch_size=16, shuffle=True)\n",
    "\n",
    "\n",
    "# Define optimizer and learning rate scheduler\n",
    "optimizer = torch.optim.AdamW(model.parameters(), lr=2e-5)\n",
    "scheduler = torch.optim.lr_scheduler.StepLR(optimizer, step_size=1, gamma=0.1)\n",
    "\n",
    "# Define loss function\n",
    "loss_fn = torch.nn.CrossEntropyLoss()"
   ]
  },
  {
   "cell_type": "code",
   "execution_count": null,
   "id": "7e1bb7c7",
   "metadata": {},
   "outputs": [],
   "source": [
    "encoded_labels"
   ]
  },
  {
   "cell_type": "code",
   "execution_count": 5,
   "id": "8b82a8fd",
   "metadata": {},
   "outputs": [
    {
     "data": {
      "application/vnd.jupyter.widget-view+json": {
       "model_id": "1e0eaa87242447b781ddfb982979af15",
       "version_major": 2,
       "version_minor": 0
      },
      "text/plain": [
       "  0%|          | 0/1 [00:00<?, ?it/s]"
      ]
     },
     "metadata": {},
     "output_type": "display_data"
    },
    {
     "data": {
      "application/vnd.jupyter.widget-view+json": {
       "model_id": "b0663230ebe544bda4bde9c6e89a7a09",
       "version_major": 2,
       "version_minor": 0
      },
      "text/plain": [
       "Cycle 0:   0%|          | 0/7 [00:00<?, ?it/s]"
      ]
     },
     "metadata": {},
     "output_type": "display_data"
    },
    {
     "ename": "ValueError",
     "evalue": "Target size (torch.Size([16])) must be the same as input size (torch.Size([16, 2]))",
     "output_type": "error",
     "traceback": [
      "\u001b[0;31m---------------------------------------------------------------------------\u001b[0m",
      "\u001b[0;31mValueError\u001b[0m                                Traceback (most recent call last)",
      "Cell \u001b[0;32mIn[5], line 28\u001b[0m\n\u001b[1;32m     20\u001b[0m optimizer\u001b[38;5;241m.\u001b[39mzero_grad()\n\u001b[1;32m     22\u001b[0m inputs \u001b[38;5;241m=\u001b[39m {\n\u001b[1;32m     23\u001b[0m     \u001b[38;5;124m'\u001b[39m\u001b[38;5;124minput_ids\u001b[39m\u001b[38;5;124m'\u001b[39m: batch[\u001b[38;5;241m0\u001b[39m],\n\u001b[1;32m     24\u001b[0m     \u001b[38;5;124m'\u001b[39m\u001b[38;5;124mattention_mask\u001b[39m\u001b[38;5;124m'\u001b[39m: batch[\u001b[38;5;241m1\u001b[39m],\n\u001b[1;32m     25\u001b[0m     \u001b[38;5;124m'\u001b[39m\u001b[38;5;124mlabels\u001b[39m\u001b[38;5;124m'\u001b[39m: batch[\u001b[38;5;241m2\u001b[39m]\u001b[38;5;241m.\u001b[39mfloat()\n\u001b[1;32m     26\u001b[0m }\n\u001b[0;32m---> 28\u001b[0m outputs \u001b[38;5;241m=\u001b[39m \u001b[43mmodel\u001b[49m\u001b[43m(\u001b[49m\u001b[38;5;241;43m*\u001b[39;49m\u001b[38;5;241;43m*\u001b[39;49m\u001b[43minputs\u001b[49m\u001b[43m)\u001b[49m\n\u001b[1;32m     30\u001b[0m loss \u001b[38;5;241m=\u001b[39m outputs\u001b[38;5;241m.\u001b[39mloss\n\u001b[1;32m     32\u001b[0m loss\u001b[38;5;241m.\u001b[39mbackward()\n",
      "File \u001b[0;32m/Library/Frameworks/Python.framework/Versions/3.11/lib/python3.11/site-packages/torch/nn/modules/module.py:1501\u001b[0m, in \u001b[0;36mModule._call_impl\u001b[0;34m(self, *args, **kwargs)\u001b[0m\n\u001b[1;32m   1496\u001b[0m \u001b[38;5;66;03m# If we don't have any hooks, we want to skip the rest of the logic in\u001b[39;00m\n\u001b[1;32m   1497\u001b[0m \u001b[38;5;66;03m# this function, and just call forward.\u001b[39;00m\n\u001b[1;32m   1498\u001b[0m \u001b[38;5;28;01mif\u001b[39;00m \u001b[38;5;129;01mnot\u001b[39;00m (\u001b[38;5;28mself\u001b[39m\u001b[38;5;241m.\u001b[39m_backward_hooks \u001b[38;5;129;01mor\u001b[39;00m \u001b[38;5;28mself\u001b[39m\u001b[38;5;241m.\u001b[39m_backward_pre_hooks \u001b[38;5;129;01mor\u001b[39;00m \u001b[38;5;28mself\u001b[39m\u001b[38;5;241m.\u001b[39m_forward_hooks \u001b[38;5;129;01mor\u001b[39;00m \u001b[38;5;28mself\u001b[39m\u001b[38;5;241m.\u001b[39m_forward_pre_hooks\n\u001b[1;32m   1499\u001b[0m         \u001b[38;5;129;01mor\u001b[39;00m _global_backward_pre_hooks \u001b[38;5;129;01mor\u001b[39;00m _global_backward_hooks\n\u001b[1;32m   1500\u001b[0m         \u001b[38;5;129;01mor\u001b[39;00m _global_forward_hooks \u001b[38;5;129;01mor\u001b[39;00m _global_forward_pre_hooks):\n\u001b[0;32m-> 1501\u001b[0m     \u001b[38;5;28;01mreturn\u001b[39;00m \u001b[43mforward_call\u001b[49m\u001b[43m(\u001b[49m\u001b[38;5;241;43m*\u001b[39;49m\u001b[43margs\u001b[49m\u001b[43m,\u001b[49m\u001b[43m \u001b[49m\u001b[38;5;241;43m*\u001b[39;49m\u001b[38;5;241;43m*\u001b[39;49m\u001b[43mkwargs\u001b[49m\u001b[43m)\u001b[49m\n\u001b[1;32m   1502\u001b[0m \u001b[38;5;66;03m# Do not call functions when jit is used\u001b[39;00m\n\u001b[1;32m   1503\u001b[0m full_backward_hooks, non_full_backward_hooks \u001b[38;5;241m=\u001b[39m [], []\n",
      "File \u001b[0;32m/Library/Frameworks/Python.framework/Versions/3.11/lib/python3.11/site-packages/transformers/models/bert/modeling_bert.py:1600\u001b[0m, in \u001b[0;36mBertForSequenceClassification.forward\u001b[0;34m(self, input_ids, attention_mask, token_type_ids, position_ids, head_mask, inputs_embeds, labels, output_attentions, output_hidden_states, return_dict)\u001b[0m\n\u001b[1;32m   1598\u001b[0m     \u001b[38;5;28;01melif\u001b[39;00m \u001b[38;5;28mself\u001b[39m\u001b[38;5;241m.\u001b[39mconfig\u001b[38;5;241m.\u001b[39mproblem_type \u001b[38;5;241m==\u001b[39m \u001b[38;5;124m\"\u001b[39m\u001b[38;5;124mmulti_label_classification\u001b[39m\u001b[38;5;124m\"\u001b[39m:\n\u001b[1;32m   1599\u001b[0m         loss_fct \u001b[38;5;241m=\u001b[39m BCEWithLogitsLoss()\n\u001b[0;32m-> 1600\u001b[0m         loss \u001b[38;5;241m=\u001b[39m \u001b[43mloss_fct\u001b[49m\u001b[43m(\u001b[49m\u001b[43mlogits\u001b[49m\u001b[43m,\u001b[49m\u001b[43m \u001b[49m\u001b[43mlabels\u001b[49m\u001b[43m)\u001b[49m\n\u001b[1;32m   1601\u001b[0m \u001b[38;5;28;01mif\u001b[39;00m \u001b[38;5;129;01mnot\u001b[39;00m return_dict:\n\u001b[1;32m   1602\u001b[0m     output \u001b[38;5;241m=\u001b[39m (logits,) \u001b[38;5;241m+\u001b[39m outputs[\u001b[38;5;241m2\u001b[39m:]\n",
      "File \u001b[0;32m/Library/Frameworks/Python.framework/Versions/3.11/lib/python3.11/site-packages/torch/nn/modules/module.py:1501\u001b[0m, in \u001b[0;36mModule._call_impl\u001b[0;34m(self, *args, **kwargs)\u001b[0m\n\u001b[1;32m   1496\u001b[0m \u001b[38;5;66;03m# If we don't have any hooks, we want to skip the rest of the logic in\u001b[39;00m\n\u001b[1;32m   1497\u001b[0m \u001b[38;5;66;03m# this function, and just call forward.\u001b[39;00m\n\u001b[1;32m   1498\u001b[0m \u001b[38;5;28;01mif\u001b[39;00m \u001b[38;5;129;01mnot\u001b[39;00m (\u001b[38;5;28mself\u001b[39m\u001b[38;5;241m.\u001b[39m_backward_hooks \u001b[38;5;129;01mor\u001b[39;00m \u001b[38;5;28mself\u001b[39m\u001b[38;5;241m.\u001b[39m_backward_pre_hooks \u001b[38;5;129;01mor\u001b[39;00m \u001b[38;5;28mself\u001b[39m\u001b[38;5;241m.\u001b[39m_forward_hooks \u001b[38;5;129;01mor\u001b[39;00m \u001b[38;5;28mself\u001b[39m\u001b[38;5;241m.\u001b[39m_forward_pre_hooks\n\u001b[1;32m   1499\u001b[0m         \u001b[38;5;129;01mor\u001b[39;00m _global_backward_pre_hooks \u001b[38;5;129;01mor\u001b[39;00m _global_backward_hooks\n\u001b[1;32m   1500\u001b[0m         \u001b[38;5;129;01mor\u001b[39;00m _global_forward_hooks \u001b[38;5;129;01mor\u001b[39;00m _global_forward_pre_hooks):\n\u001b[0;32m-> 1501\u001b[0m     \u001b[38;5;28;01mreturn\u001b[39;00m \u001b[43mforward_call\u001b[49m\u001b[43m(\u001b[49m\u001b[38;5;241;43m*\u001b[39;49m\u001b[43margs\u001b[49m\u001b[43m,\u001b[49m\u001b[43m \u001b[49m\u001b[38;5;241;43m*\u001b[39;49m\u001b[38;5;241;43m*\u001b[39;49m\u001b[43mkwargs\u001b[49m\u001b[43m)\u001b[49m\n\u001b[1;32m   1502\u001b[0m \u001b[38;5;66;03m# Do not call functions when jit is used\u001b[39;00m\n\u001b[1;32m   1503\u001b[0m full_backward_hooks, non_full_backward_hooks \u001b[38;5;241m=\u001b[39m [], []\n",
      "File \u001b[0;32m/Library/Frameworks/Python.framework/Versions/3.11/lib/python3.11/site-packages/torch/nn/modules/loss.py:720\u001b[0m, in \u001b[0;36mBCEWithLogitsLoss.forward\u001b[0;34m(self, input, target)\u001b[0m\n\u001b[1;32m    719\u001b[0m \u001b[38;5;28;01mdef\u001b[39;00m \u001b[38;5;21mforward\u001b[39m(\u001b[38;5;28mself\u001b[39m, \u001b[38;5;28minput\u001b[39m: Tensor, target: Tensor) \u001b[38;5;241m-\u001b[39m\u001b[38;5;241m>\u001b[39m Tensor:\n\u001b[0;32m--> 720\u001b[0m     \u001b[38;5;28;01mreturn\u001b[39;00m \u001b[43mF\u001b[49m\u001b[38;5;241;43m.\u001b[39;49m\u001b[43mbinary_cross_entropy_with_logits\u001b[49m\u001b[43m(\u001b[49m\u001b[38;5;28;43minput\u001b[39;49m\u001b[43m,\u001b[49m\u001b[43m \u001b[49m\u001b[43mtarget\u001b[49m\u001b[43m,\u001b[49m\n\u001b[1;32m    721\u001b[0m \u001b[43m                                              \u001b[49m\u001b[38;5;28;43mself\u001b[39;49m\u001b[38;5;241;43m.\u001b[39;49m\u001b[43mweight\u001b[49m\u001b[43m,\u001b[49m\n\u001b[1;32m    722\u001b[0m \u001b[43m                                              \u001b[49m\u001b[43mpos_weight\u001b[49m\u001b[38;5;241;43m=\u001b[39;49m\u001b[38;5;28;43mself\u001b[39;49m\u001b[38;5;241;43m.\u001b[39;49m\u001b[43mpos_weight\u001b[49m\u001b[43m,\u001b[49m\n\u001b[1;32m    723\u001b[0m \u001b[43m                                              \u001b[49m\u001b[43mreduction\u001b[49m\u001b[38;5;241;43m=\u001b[39;49m\u001b[38;5;28;43mself\u001b[39;49m\u001b[38;5;241;43m.\u001b[39;49m\u001b[43mreduction\u001b[49m\u001b[43m)\u001b[49m\n",
      "File \u001b[0;32m/Library/Frameworks/Python.framework/Versions/3.11/lib/python3.11/site-packages/torch/nn/functional.py:3163\u001b[0m, in \u001b[0;36mbinary_cross_entropy_with_logits\u001b[0;34m(input, target, weight, size_average, reduce, reduction, pos_weight)\u001b[0m\n\u001b[1;32m   3160\u001b[0m     reduction_enum \u001b[38;5;241m=\u001b[39m _Reduction\u001b[38;5;241m.\u001b[39mget_enum(reduction)\n\u001b[1;32m   3162\u001b[0m \u001b[38;5;28;01mif\u001b[39;00m \u001b[38;5;129;01mnot\u001b[39;00m (target\u001b[38;5;241m.\u001b[39msize() \u001b[38;5;241m==\u001b[39m \u001b[38;5;28minput\u001b[39m\u001b[38;5;241m.\u001b[39msize()):\n\u001b[0;32m-> 3163\u001b[0m     \u001b[38;5;28;01mraise\u001b[39;00m \u001b[38;5;167;01mValueError\u001b[39;00m(\u001b[38;5;124m\"\u001b[39m\u001b[38;5;124mTarget size (\u001b[39m\u001b[38;5;132;01m{}\u001b[39;00m\u001b[38;5;124m) must be the same as input size (\u001b[39m\u001b[38;5;132;01m{}\u001b[39;00m\u001b[38;5;124m)\u001b[39m\u001b[38;5;124m\"\u001b[39m\u001b[38;5;241m.\u001b[39mformat(target\u001b[38;5;241m.\u001b[39msize(), \u001b[38;5;28minput\u001b[39m\u001b[38;5;241m.\u001b[39msize()))\n\u001b[1;32m   3165\u001b[0m \u001b[38;5;28;01mreturn\u001b[39;00m torch\u001b[38;5;241m.\u001b[39mbinary_cross_entropy_with_logits(\u001b[38;5;28minput\u001b[39m, target, weight, pos_weight, reduction_enum)\n",
      "\u001b[0;31mValueError\u001b[0m: Target size (torch.Size([16])) must be the same as input size (torch.Size([16, 2]))"
     ]
    }
   ],
   "source": [
    "# Train the model\n",
    "\n",
    "# wrap range iterable in a tqdm object\n",
    "training_cycles = tqdm(range(1)) \n",
    "\n",
    "for training_cycle in training_cycles:\n",
    "    \n",
    "    model.train()\n",
    "    \n",
    "    # wrap train_loader in a tqdm object\n",
    "    train_loader_progress = tqdm(\n",
    "        train_loader, \n",
    "        desc=f'Cycle {training_cycle:1d}', \n",
    "        leave=False, \n",
    "        disable=False)\n",
    "    \n",
    "    count = 0\n",
    "    for batch in train_loader_progress:\n",
    "\n",
    "        optimizer.zero_grad()\n",
    "\n",
    "        inputs = {\n",
    "            'input_ids': batch[0],\n",
    "            'attention_mask': batch[1],\n",
    "            'labels': batch[2].float()\n",
    "        }\n",
    "\n",
    "        outputs = model(**inputs)\n",
    "\n",
    "        loss = outputs.loss\n",
    "\n",
    "        loss.backward()\n",
    "        optimizer.step()\n",
    "        scheduler.step()\n",
    "     \n",
    "        print(count)\n",
    "        train_loader_progress.set_postfix(batch = f'{count}')     \n",
    "        \n",
    "        count += 1\n",
    "\n",
    "                        "
   ]
  },
  {
   "cell_type": "code",
   "execution_count": null,
   "id": "e639cbef",
   "metadata": {},
   "outputs": [],
   "source": [
    "train_dataset['text']"
   ]
  },
  {
   "cell_type": "code",
   "execution_count": null,
   "id": "6d6ab889",
   "metadata": {},
   "outputs": [],
   "source": [
    "# making prediction\n",
    "\n",
    "model.eval()\n",
    "\n",
    "inputs = tokenizer([\"a nice job by everyone concerned\"], return_tensors=\"pt\", padding=True)\n",
    "\n",
    "print(inputs)\n",
    "labels = torch.tensor([0])  # Batch size 1\n",
    "\n",
    "outputs = model(**inputs, labels=labels) ## input is a dictionar, ** to pass it as kwargs\n",
    "\n",
    "loss, logits = outputs[:2]\n",
    "\n",
    "softmax_prob =torch.softmax(logits, dim=1)\n",
    "print(loss)\n",
    "print(logits)"
   ]
  },
  {
   "cell_type": "code",
   "execution_count": null,
   "id": "60699e26",
   "metadata": {},
   "outputs": [],
   "source": [
    "from sklearn.metrics import accuracy_score\n",
    "\n",
    "# Define data loader for testing data\n",
    "test_loader = DataLoader(test_dataset, batch_size=16, shuffle=False)\n",
    "\n",
    "# Evaluate the model\n",
    "y_true = []\n",
    "y_pred = []\n",
    "model.eval()\n",
    "\n",
    "for batch in test_loader:\n",
    "    input_ids = batch['input_ids']\n",
    "    attention_mask = batch['attention_mask']\n",
    "    labels = batch['label']\n",
    "    with torch.no_grad():\n",
    "        outputs = model(input_ids, attention_mask=attention_mask, labels=labels)\n",
    "    logits = outputs.logits\n",
    "    _, predictions = torch.max(logits, dim=1)\n",
    "    y_true += labels.tolist()\n",
    "    y_pred += predictions.tolist()\n",
    "accuracy = accuracy_score(y_true, y_pred)\n",
    "print(f'Accuracy: {accuracy:.2f}')\n"
   ]
  },
  {
   "cell_type": "code",
   "execution_count": null,
   "id": "33e7d921",
   "metadata": {},
   "outputs": [],
   "source": [
    "torch.max(torch.tensor([0.1,1.2]))"
   ]
  },
  {
   "cell_type": "markdown",
   "id": "3138a2d6",
   "metadata": {},
   "source": [
    "## Using pretrained model"
   ]
  },
  {
   "cell_type": "code",
   "execution_count": null,
   "id": "4e1faa5d",
   "metadata": {},
   "outputs": [],
   "source": [
    "model_untoned = BertForSequenceClassification.from_pretrained('bert-base-uncased')"
   ]
  },
  {
   "cell_type": "code",
   "execution_count": null,
   "id": "bdf5ba11",
   "metadata": {},
   "outputs": [],
   "source": [
    "inputs = tokenizer([\"no, it is too late\", \"iam happy\"], return_tensors=\"pt\", padding=True)\n",
    "print(inputs)\n",
    "labels = torch.tensor([[0, 1]])  # Batch size 1\n",
    "\n",
    "outputs = model_untoned(**inputs, labels=labels) ## input is a dictionar, ** to pass it as kwargs\n",
    "\n",
    "loss, logits = outputs[:2]\n",
    "\n",
    "softmax_prob =torch.softmax(logits, dim=1)\n",
    "print(loss)\n",
    "print(logits)"
   ]
  },
  {
   "cell_type": "markdown",
   "id": "3aa4da16",
   "metadata": {},
   "source": [
    "# Training example 2"
   ]
  },
  {
   "cell_type": "code",
   "execution_count": null,
   "id": "6f7cbb81",
   "metadata": {},
   "outputs": [],
   "source": [
    "import torch\n",
    "import transformers\n",
    "\n",
    "# Load the BERT tokenizer\n",
    "tokenizer = transformers.BertTokenizer.from_pretrained('bert-base-uncased')\n",
    "\n",
    "# Load the pre-trained BERT model\n",
    "model = transformers.BertForSequenceClassification.from_pretrained('bert-base-uncased', num_labels=3)\n"
   ]
  },
  {
   "cell_type": "code",
   "execution_count": null,
   "id": "7befcd2c",
   "metadata": {},
   "outputs": [],
   "source": [
    "train_data = [\n",
    "    (\"The movie was great and I loved it!\", \"positive\"),\n",
    "    (\"The movie was terrible and I hated it.\", \"negative\"),\n",
    "    (\"The movie was okay but could have been better.\", \"neutral\"),\n",
    "    (\"I'm not sure how I feel about the movie.\", \"neutral\"),\n",
    "    (\"The movie was fantastic!\", \"positive\"),\n",
    "    (\"I didn't like the movie at all.\", \"negative\"),\n",
    "    (\"The movie was decent but not amazing.\", \"neutral\")\n",
    "]\n",
    "\n",
    "label_map = {\n",
    "    \"positive\": 0,\n",
    "    \"negative\": 1,\n",
    "    \"neutral\" : 2 \n",
    "}\n"
   ]
  },
  {
   "cell_type": "code",
   "execution_count": null,
   "id": "5a4eeebe",
   "metadata": {},
   "outputs": [],
   "source": [
    "# Tokenize the training data\n",
    "tokenized_train_data = [(tokenizer.encode_plus(review, add_special_tokens=True, max_length=128, padding='max_length', truncation=True), label) for review, label in train_data]\n",
    "\n",
    "# Convert the tokenized training data to tensors\n",
    "train_inputs = torch.tensor([tokenized_review['input_ids'] for tokenized_review, _ in tokenized_train_data])\n",
    "train_attention_masks = torch.tensor([tokenized_review['attention_mask'] for tokenized_review, _ in tokenized_train_data])\n",
    "\n",
    "# covert label to int representation\n",
    "train_labels_int = [label_map[label] for _, label in tokenized_train_data]\n",
    "\n",
    "# covert to one hot encoding formats\n",
    "one_hot_labels = np.eye(len(label_map))[train_labels_int]\n",
    "\n",
    "print(one_hot_labels)\n",
    "\n",
    "train_labels = torch.tensor(one_hot_labels)\n"
   ]
  },
  {
   "cell_type": "code",
   "execution_count": null,
   "id": "82df91ae",
   "metadata": {},
   "outputs": [],
   "source": [
    "# Define the optimizer and learning rate\n",
    "optimizer = transformers.AdamW(model.parameters(), lr=5e-5)\n",
    "\n",
    "# Define the number of training epochs\n",
    "num_epochs = 3\n",
    "\n",
    "# Train the model\n",
    "for epoch in range(num_epochs):\n",
    "    # Set the model to training mode\n",
    "    model.train()\n",
    "\n",
    "    # Reset the loss for this epoch\n",
    "    epoch_loss = 0.0\n",
    "\n",
    "    # Iterate over the training data in batches\n",
    "    for batch_inputs, batch_attention_masks, batch_labels in zip(train_inputs.split(8), train_attention_masks.split(8), train_labels.split(8)):\n",
    "        # Zero the gradients for this batch\n",
    "        optimizer.zero_grad()\n",
    "        print(batch_inputs)\n",
    "        print(batch_labels)\n",
    "        # Forward pass through the model\n",
    "        outputs = model(batch_inputs, attention_mask=batch_attention_masks, labels=batch_labels)\n",
    "\n",
    "        # Calculate the loss for this batch\n",
    "        loss = outputs.loss\n",
    "\n",
    "        # Backward pass to calculate gradients\n",
    "        loss.backward()\n",
    "\n",
    "        # Update the parameters\n",
    "        optimizer.step()\n",
    "\n",
    "        # Accumulate the loss for this epoch\n",
    "        epoch_loss += loss.item()\n",
    "\n",
    "    # Print the loss for this epoch\n",
    "    print(\"Epoch {}: Loss = {}\".format(epoch + 1, epoch_loss))\n"
   ]
  },
  {
   "cell_type": "code",
   "execution_count": null,
   "id": "0f85cb43",
   "metadata": {},
   "outputs": [],
   "source": [
    "model.eval()\n",
    "\n",
    "# Define input text\n",
    "text = \"I loved it\"\n",
    "\n",
    "# Tokenize input text and convert to input IDs\n",
    "inputs = tokenizer.encode_plus(text, add_special_tokens=True, return_tensors='pt')\n",
    "\n",
    "input_ids = inputs['input_ids']\n",
    "\n",
    "# Define one-hot encoding for labels\n",
    "one_hot_labels = torch.zeros((1, len(label_map)))\n",
    "one_hot_labels[0][0] = 3  # set first label as positive\n",
    "\n",
    "# Run model on input\n",
    "outputs = model(input_ids=input_ids, labels=one_hot_labels)\n",
    "\n",
    "# Get logits and convert to probabilities\n",
    "logits = outputs[1]\n",
    "probs = torch.nn.functional.softmax(logits, dim=-1)\n",
    "print(outputs)\n",
    "# Print probabilities for each label\n",
    "for label, prob in zip(label_map.keys(), probs[0]):\n",
    "    print(f\"{label}: {prob:.4f}\")"
   ]
  },
  {
   "cell_type": "code",
   "execution_count": null,
   "id": "9201d652",
   "metadata": {},
   "outputs": [],
   "source": [
    "import numpy as np\n",
    "\n",
    "# define labels\n",
    "labels = ['positive', 'neutral', 'negative', 'negative']\n",
    "\n",
    "# create a dictionary to map label strings to integers\n",
    "label_map = {'positive': 0, 'neutral': 1, 'negative': 2}\n",
    "\n",
    "# convert labels to integer representation\n",
    "label_ids = [label_map[label] for label in labels]\n",
    "\n",
    "# perform one-hot encoding using numpy\n",
    "one_hot_labels = np.eye(len(label_map))[label_ids]\n",
    "\n",
    "print(one_hot_labels)\n"
   ]
  },
  {
   "cell_type": "code",
   "execution_count": null,
   "id": "1a1f17ce",
   "metadata": {},
   "outputs": [],
   "source": [
    "label_ids"
   ]
  },
  {
   "cell_type": "code",
   "execution_count": null,
   "id": "53fe51dd",
   "metadata": {},
   "outputs": [],
   "source": [
    "np.eye(5)"
   ]
  },
  {
   "cell_type": "code",
   "execution_count": null,
   "id": "6b0cf6e7",
   "metadata": {},
   "outputs": [],
   "source": []
  }
 ],
 "metadata": {
  "kernelspec": {
   "display_name": "Python 3 (ipykernel)",
   "language": "python",
   "name": "python3"
  },
  "language_info": {
   "codemirror_mode": {
    "name": "ipython",
    "version": 3
   },
   "file_extension": ".py",
   "mimetype": "text/x-python",
   "name": "python",
   "nbconvert_exporter": "python",
   "pygments_lexer": "ipython3",
   "version": "3.11.1"
  }
 },
 "nbformat": 4,
 "nbformat_minor": 5
}
