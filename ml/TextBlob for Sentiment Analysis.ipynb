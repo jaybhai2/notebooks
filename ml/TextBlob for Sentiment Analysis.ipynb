{
 "cells": [
  {
   "cell_type": "code",
   "execution_count": 1,
   "id": "4b9489a8",
   "metadata": {},
   "outputs": [
    {
     "name": "stdout",
     "output_type": "stream",
     "text": [
      "Collecting textblob\n",
      "  Downloading textblob-0.17.1-py2.py3-none-any.whl (636 kB)\n",
      "\u001b[2K     \u001b[90m━━━━━━━━━━━━━━━━━━━━━━━━━━━━━━━━━━━━━━━\u001b[0m \u001b[32m636.8/636.8 kB\u001b[0m \u001b[31m5.6 MB/s\u001b[0m eta \u001b[36m0:00:00\u001b[0m00:01\u001b[0m00:01\u001b[0m\n",
      "\u001b[?25hCollecting nltk>=3.1 (from textblob)\n",
      "  Downloading nltk-3.8.1-py3-none-any.whl (1.5 MB)\n",
      "\u001b[2K     \u001b[90m━━━━━━━━━━━━━━━━━━━━━━━━━━━━━━━━━━━━━━━━\u001b[0m \u001b[32m1.5/1.5 MB\u001b[0m \u001b[31m12.0 MB/s\u001b[0m eta \u001b[36m0:00:00\u001b[0m00:01\u001b[0m00:01\u001b[0m\n",
      "\u001b[?25hRequirement already satisfied: click in /Library/Frameworks/Python.framework/Versions/3.11/lib/python3.11/site-packages (from nltk>=3.1->textblob) (8.1.3)\n",
      "Requirement already satisfied: joblib in /Library/Frameworks/Python.framework/Versions/3.11/lib/python3.11/site-packages (from nltk>=3.1->textblob) (1.2.0)\n",
      "Requirement already satisfied: regex>=2021.8.3 in /Library/Frameworks/Python.framework/Versions/3.11/lib/python3.11/site-packages (from nltk>=3.1->textblob) (2023.3.23)\n",
      "Requirement already satisfied: tqdm in /Library/Frameworks/Python.framework/Versions/3.11/lib/python3.11/site-packages (from nltk>=3.1->textblob) (4.65.0)\n",
      "Installing collected packages: nltk, textblob\n",
      "Successfully installed nltk-3.8.1 textblob-0.17.1\n"
     ]
    }
   ],
   "source": [
    "!pip3 install textblob"
   ]
  },
  {
   "cell_type": "code",
   "execution_count": 8,
   "id": "488e190f",
   "metadata": {},
   "outputs": [
    {
     "name": "stdout",
     "output_type": "stream",
     "text": [
      "customer sent a neutral message: Hi, I need help with my order\n",
      "agent sent a positive message: Sure, what's your order number?\n",
      "customer sent a neutral message: 123456\n",
      "agent sent a positive message: Thanks, let me check that for you\n",
      "agent sent a neutral message: I see that your order has been shipped\n",
      "customer sent a positive message: Great, when can I expect it to arrive?\n",
      "agent sent a neutral message: It should arrive within 3-5 business days\n",
      "customer sent a negative message: No, it will be too late\n",
      "agent sent a negative message: Im sorry for the inconvience\n"
     ]
    }
   ],
   "source": [
    "from textblob import TextBlob\n",
    "\n",
    "# Sample conversation data\n",
    "conversation = [\n",
    "    {'speaker': 'customer', 'message': 'Hi, I need help with my order'},\n",
    "    {'speaker': 'agent', 'message': 'Sure, what\\'s your order number?'},\n",
    "    {'speaker': 'customer', 'message': '123456'},\n",
    "    {'speaker': 'agent', 'message': 'Thanks, let me check that for you'},\n",
    "    {'speaker': 'agent', 'message': 'I see that your order has been shipped'},\n",
    "    {'speaker': 'customer', 'message': 'Great, when can I expect it to arrive?'},\n",
    "    {'speaker': 'agent', 'message': 'It should arrive within 3-5 business days'},\n",
    "    \n",
    "    {'speaker': 'customer', 'message': 'No, it will be too late'},\n",
    "    {'speaker': 'agent', 'message': 'Im sorry for the inconvience'}\n",
    "]\n",
    "\n",
    "# Perform sentiment analysis on each message\n",
    "for message in conversation:\n",
    "    blob = TextBlob(message['message'])\n",
    "    sentiment = blob.sentiment.polarity\n",
    "    if sentiment > 0:\n",
    "        print(message['speaker'], 'sent a positive message:', message['message'])\n",
    "    elif sentiment < 0:\n",
    "        print(message['speaker'], 'sent a negative message:', message['message'])\n",
    "    else:\n",
    "        print(message['speaker'], 'sent a neutral message:', message['message'])\n"
   ]
  },
  {
   "cell_type": "code",
   "execution_count": null,
   "id": "5c0bed3f",
   "metadata": {},
   "outputs": [],
   "source": []
  }
 ],
 "metadata": {
  "kernelspec": {
   "display_name": "Python 3 (ipykernel)",
   "language": "python",
   "name": "python3"
  },
  "language_info": {
   "codemirror_mode": {
    "name": "ipython",
    "version": 3
   },
   "file_extension": ".py",
   "mimetype": "text/x-python",
   "name": "python",
   "nbconvert_exporter": "python",
   "pygments_lexer": "ipython3",
   "version": "3.11.1"
  }
 },
 "nbformat": 4,
 "nbformat_minor": 5
}
