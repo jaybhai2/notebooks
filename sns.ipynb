{
 "cells": [
  {
   "cell_type": "code",
   "execution_count": 8,
   "id": "6c2a73e1",
   "metadata": {},
   "outputs": [],
   "source": [
    "import json\n",
    "import boto3\n",
    "\n",
    "\n",
    "client = boto3.client('sns', region_name='us-east-1')\n"
   ]
  },
  {
   "cell_type": "code",
   "execution_count": 13,
   "id": "a785ab83",
   "metadata": {},
   "outputs": [],
   "source": [
    "message = {\"foo\": \"bar\", \"foo2\": \"bar\", \"foo3\": \"bar\", \"foo4\": \"bar\"}\n",
    "\n",
    "response = client.publish(\n",
    "    TargetArn=\"arn:aws:sns:us-east-1:934157730474:my-sns-topic\",\n",
    "    Message=json.dumps({'default': json.dumps(message)}),\n",
    "    MessageStructure='json'\n",
    ")\n"
   ]
  },
  {
   "cell_type": "code",
   "execution_count": 14,
   "id": "8825c070",
   "metadata": {},
   "outputs": [
    {
     "data": {
      "text/plain": [
       "{'MessageId': '68b337fe-210b-5a34-9158-6b44258b3bd7',\n",
       " 'ResponseMetadata': {'RequestId': '0bfcec73-3637-5e79-8634-b0c932b75f9a',\n",
       "  'HTTPStatusCode': 200,\n",
       "  'HTTPHeaders': {'x-amzn-requestid': '0bfcec73-3637-5e79-8634-b0c932b75f9a',\n",
       "   'content-type': 'text/xml',\n",
       "   'content-length': '294',\n",
       "   'date': 'Wed, 19 Apr 2023 15:01:20 GMT'},\n",
       "  'RetryAttempts': 0}}"
      ]
     },
     "execution_count": 14,
     "metadata": {},
     "output_type": "execute_result"
    }
   ],
   "source": [
    "response"
   ]
  },
  {
   "cell_type": "code",
   "execution_count": null,
   "id": "d472b629",
   "metadata": {},
   "outputs": [],
   "source": []
  }
 ],
 "metadata": {
  "kernelspec": {
   "display_name": "Python 3 (ipykernel)",
   "language": "python",
   "name": "python3"
  },
  "language_info": {
   "codemirror_mode": {
    "name": "ipython",
    "version": 3
   },
   "file_extension": ".py",
   "mimetype": "text/x-python",
   "name": "python",
   "nbconvert_exporter": "python",
   "pygments_lexer": "ipython3",
   "version": "3.11.1"
  }
 },
 "nbformat": 4,
 "nbformat_minor": 5
}
